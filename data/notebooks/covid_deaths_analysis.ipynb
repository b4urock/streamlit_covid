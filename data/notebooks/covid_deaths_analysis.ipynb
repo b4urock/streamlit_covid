{
 "cells": [
  {
   "cell_type": "code",
   "execution_count": 48,
   "metadata": {},
   "outputs": [],
   "source": [
    "import pandas as pd\n",
    "import matplotlib.pyplot as plt\n",
    "import seaborn as sns\n",
    "import numpy as np\n"
   ]
  },
  {
   "cell_type": "code",
   "execution_count": 2,
   "metadata": {},
   "outputs": [],
   "source": [
    "# Dicionário com Regiões e seus Estados\n",
    "RegionStates = {#North\n",
    "                'AM': 'North',\n",
    "                'RR': 'North',\n",
    "                'AP': 'North',\n",
    "                'PA': 'North',\n",
    "                'TO': 'North',\n",
    "                'RO': 'North',\n",
    "                'AC': 'North',\n",
    "                #Northeast\n",
    "                'MA': 'Northeast',\n",
    "                'PI': 'Northeast',\n",
    "                'CE': 'Northeast',\n",
    "                'RN': 'Northeast',\n",
    "                'PE': 'Northeast',\n",
    "                'PB': 'Northeast',\n",
    "                'SE': 'Northeast',\n",
    "                'AL': 'Northeast',\n",
    "                'BA': 'Northeast',\n",
    "                #Midwest\n",
    "                'MT': 'Midwest',\n",
    "                'MS': 'Midwest',\n",
    "                'GO': 'Midwest',\n",
    "                'DF': 'Midwest',\n",
    "                #Southest\n",
    "                'SP': 'Southest',\n",
    "                'RJ': 'Southest',\n",
    "                'ES': 'Southest',\n",
    "                'MG': 'Southest',\n",
    "                #South\n",
    "                'PR': 'South',\n",
    "                'RS': 'South',\n",
    "                'SC': 'South'\n",
    "                }\n",
    "\n",
    "\n",
    "States = {#North\n",
    "          'AM': 'Amazonas',\n",
    "          'RR': 'Roraima',\n",
    "          'AP': 'Amapá',\n",
    "          'PA': 'Para',\n",
    "          'TO': 'Tocantins',\n",
    "          'RO': 'Rondônia',\n",
    "          'AC': 'Acre',\n",
    "          #Northeast\n",
    "          'MA': 'Maranhão',\n",
    "          'PI': 'Piauí',\n",
    "          'CE': 'Ceará',\n",
    "          'RN': 'Rio Grande do North',\n",
    "          'PE': 'Pernambuco',\n",
    "          'PB': 'Paraíba',\n",
    "          'SE': 'Sergipe',\n",
    "          'AL': 'Alagoas',\n",
    "          'BA': 'Bahia',\n",
    "          #Midwest\n",
    "          'MT': 'Mato Grosso',\n",
    "          'MS': 'Mato Grosso do South',\n",
    "          'GO': 'Goiás',\n",
    "          'DF': 'Distrito Federal',\n",
    "          #Southest\n",
    "          'SP': 'São Paulo',\n",
    "          'RJ': 'Rio de Janeiro',\n",
    "          'ES': 'Espírito Santo',\n",
    "          'MG': 'Minas Gerais',\n",
    "          #South\n",
    "          'PR': 'Paraná',\n",
    "          'RS': 'Rio Grande do South',\n",
    "          'SC': 'Santa Catarina'\n",
    "          }      \n",
    "\n",
    "regions_list = ['NORTH', \n",
    "                'SOUTH' ,\n",
    "                'MIDWEST',\n",
    "                'SOUTHEAST',\n",
    "                'NORTHEAST']                    "
   ]
  },
  {
   "cell_type": "code",
   "execution_count": 3,
   "metadata": {},
   "outputs": [
    {
     "name": "stdout",
     "output_type": "stream",
     "text": [
      "2019 (12575, 6)\n",
      "2019 (12575, 6)\n",
      "2019 (12575, 6)\n"
     ]
    }
   ],
   "source": [
    "path_2019 = \"C:\\Dev\\GitHub\\streamlit_covid\\data\\obitos-2019.csv\"\n",
    "path_2020 = \"C:\\Dev\\GitHub\\streamlit_covid\\data\\obitos-2020.csv\"\n",
    "path_2021 = \"C:\\Dev\\GitHub\\streamlit_covid\\data\\obitos-2021.csv\"\n",
    "\n",
    "\n",
    "data_2019 = pd.read_csv(path_2019)\n",
    "data_2020 = pd.read_csv(path_2020)\n",
    "data_2021 = pd.read_csv(path_2021)\n",
    "\n",
    "print(f'2019 {data_2019.shape}')\n",
    "print(f'2019 {data_2019.shape}')\n",
    "print(f'2019 {data_2019.shape}')"
   ]
  },
  {
   "cell_type": "code",
   "execution_count": 4,
   "metadata": {},
   "outputs": [
    {
     "data": {
      "text/html": [
       "<div>\n",
       "<style scoped>\n",
       "    .dataframe tbody tr th:only-of-type {\n",
       "        vertical-align: middle;\n",
       "    }\n",
       "\n",
       "    .dataframe tbody tr th {\n",
       "        vertical-align: top;\n",
       "    }\n",
       "\n",
       "    .dataframe thead th {\n",
       "        text-align: right;\n",
       "    }\n",
       "</style>\n",
       "<table border=\"1\" class=\"dataframe\">\n",
       "  <thead>\n",
       "    <tr style=\"text-align: right;\">\n",
       "      <th></th>\n",
       "      <th>uf</th>\n",
       "      <th>tipo_doenca</th>\n",
       "      <th>local_obito</th>\n",
       "      <th>faixa_etaria</th>\n",
       "      <th>sexo</th>\n",
       "      <th>total</th>\n",
       "    </tr>\n",
       "  </thead>\n",
       "  <tbody>\n",
       "    <tr>\n",
       "      <th>0</th>\n",
       "      <td>AC</td>\n",
       "      <td>OUTRAS</td>\n",
       "      <td>DOMICILIO</td>\n",
       "      <td>&lt; 9</td>\n",
       "      <td>F</td>\n",
       "      <td>8</td>\n",
       "    </tr>\n",
       "    <tr>\n",
       "      <th>1</th>\n",
       "      <td>AC</td>\n",
       "      <td>OUTRAS</td>\n",
       "      <td>DOMICILIO</td>\n",
       "      <td>&lt; 9</td>\n",
       "      <td>M</td>\n",
       "      <td>16</td>\n",
       "    </tr>\n",
       "    <tr>\n",
       "      <th>2</th>\n",
       "      <td>AC</td>\n",
       "      <td>OUTRAS</td>\n",
       "      <td>HOSPITAL</td>\n",
       "      <td>&lt; 9</td>\n",
       "      <td>F</td>\n",
       "      <td>46</td>\n",
       "    </tr>\n",
       "    <tr>\n",
       "      <th>3</th>\n",
       "      <td>AC</td>\n",
       "      <td>OUTRAS</td>\n",
       "      <td>HOSPITAL</td>\n",
       "      <td>&lt; 9</td>\n",
       "      <td>M</td>\n",
       "      <td>69</td>\n",
       "    </tr>\n",
       "    <tr>\n",
       "      <th>4</th>\n",
       "      <td>AC</td>\n",
       "      <td>OUTRAS</td>\n",
       "      <td>IGNORADO</td>\n",
       "      <td>&lt; 9</td>\n",
       "      <td>M</td>\n",
       "      <td>1</td>\n",
       "    </tr>\n",
       "  </tbody>\n",
       "</table>\n",
       "</div>"
      ],
      "text/plain": [
       "   uf tipo_doenca local_obito faixa_etaria sexo  total\n",
       "0  AC      OUTRAS   DOMICILIO          < 9    F      8\n",
       "1  AC      OUTRAS   DOMICILIO          < 9    M     16\n",
       "2  AC      OUTRAS    HOSPITAL          < 9    F     46\n",
       "3  AC      OUTRAS    HOSPITAL          < 9    M     69\n",
       "4  AC      OUTRAS    IGNORADO          < 9    M      1"
      ]
     },
     "execution_count": 4,
     "metadata": {},
     "output_type": "execute_result"
    }
   ],
   "source": [
    "data_2019.head()"
   ]
  },
  {
   "cell_type": "code",
   "execution_count": 5,
   "metadata": {},
   "outputs": [
    {
     "data": {
      "text/html": [
       "<div>\n",
       "<style scoped>\n",
       "    .dataframe tbody tr th:only-of-type {\n",
       "        vertical-align: middle;\n",
       "    }\n",
       "\n",
       "    .dataframe tbody tr th {\n",
       "        vertical-align: top;\n",
       "    }\n",
       "\n",
       "    .dataframe thead th {\n",
       "        text-align: right;\n",
       "    }\n",
       "</style>\n",
       "<table border=\"1\" class=\"dataframe\">\n",
       "  <thead>\n",
       "    <tr style=\"text-align: right;\">\n",
       "      <th></th>\n",
       "      <th>uf</th>\n",
       "      <th>tipo_doenca</th>\n",
       "      <th>local_obito</th>\n",
       "      <th>faixa_etaria</th>\n",
       "      <th>sexo</th>\n",
       "      <th>total</th>\n",
       "    </tr>\n",
       "  </thead>\n",
       "  <tbody>\n",
       "    <tr>\n",
       "      <th>7095</th>\n",
       "      <td>BA</td>\n",
       "      <td>SRAG</td>\n",
       "      <td>DOMICILIO</td>\n",
       "      <td>60 - 69</td>\n",
       "      <td>M</td>\n",
       "      <td>1</td>\n",
       "    </tr>\n",
       "    <tr>\n",
       "      <th>3015</th>\n",
       "      <td>DF</td>\n",
       "      <td>COVID</td>\n",
       "      <td>HOSPITAL</td>\n",
       "      <td>30 - 39</td>\n",
       "      <td>F</td>\n",
       "      <td>32</td>\n",
       "    </tr>\n",
       "    <tr>\n",
       "      <th>14312</th>\n",
       "      <td>SE</td>\n",
       "      <td>INSUFICIENCIA_RESPIRATORIA</td>\n",
       "      <td>IGNORADO</td>\n",
       "      <td>&gt; 100</td>\n",
       "      <td>F</td>\n",
       "      <td>1</td>\n",
       "    </tr>\n",
       "    <tr>\n",
       "      <th>12192</th>\n",
       "      <td>CE</td>\n",
       "      <td>PNEUMONIA</td>\n",
       "      <td>OUTROS_SERVICOS_SAUDE</td>\n",
       "      <td>90 - 99</td>\n",
       "      <td>F</td>\n",
       "      <td>51</td>\n",
       "    </tr>\n",
       "    <tr>\n",
       "      <th>181</th>\n",
       "      <td>CE</td>\n",
       "      <td>OUTRAS</td>\n",
       "      <td>OUTRO</td>\n",
       "      <td>&lt; 9</td>\n",
       "      <td>F</td>\n",
       "      <td>15</td>\n",
       "    </tr>\n",
       "  </tbody>\n",
       "</table>\n",
       "</div>"
      ],
      "text/plain": [
       "       uf                 tipo_doenca            local_obito faixa_etaria  \\\n",
       "7095   BA                        SRAG              DOMICILIO      60 - 69   \n",
       "3015   DF                       COVID               HOSPITAL      30 - 39   \n",
       "14312  SE  INSUFICIENCIA_RESPIRATORIA               IGNORADO        > 100   \n",
       "12192  CE                   PNEUMONIA  OUTROS_SERVICOS_SAUDE      90 - 99   \n",
       "181    CE                      OUTRAS                  OUTRO          < 9   \n",
       "\n",
       "      sexo  total  \n",
       "7095     M      1  \n",
       "3015     F     32  \n",
       "14312    F      1  \n",
       "12192    F     51  \n",
       "181      F     15  "
      ]
     },
     "execution_count": 5,
     "metadata": {},
     "output_type": "execute_result"
    }
   ],
   "source": [
    "data_2020.sample(5)"
   ]
  },
  {
   "cell_type": "code",
   "execution_count": 6,
   "metadata": {},
   "outputs": [
    {
     "data": {
      "text/plain": [
       "27"
      ]
     },
     "execution_count": 6,
     "metadata": {},
     "output_type": "execute_result"
    }
   ],
   "source": [
    "len(data_2021['uf'].unique())"
   ]
  },
  {
   "cell_type": "code",
   "execution_count": 7,
   "metadata": {},
   "outputs": [
    {
     "data": {
      "text/plain": [
       "array(['OUTRAS', 'COVID', 'INDETERMINADA', 'INSUFICIENCIA_RESPIRATORIA',\n",
       "       'PNEUMONIA', 'SEPTICEMIA', 'SRAG'], dtype=object)"
      ]
     },
     "execution_count": 7,
     "metadata": {},
     "output_type": "execute_result"
    }
   ],
   "source": [
    "data_2020[\"tipo_doenca\"].unique()"
   ]
  },
  {
   "cell_type": "code",
   "execution_count": 8,
   "metadata": {},
   "outputs": [
    {
     "data": {
      "text/plain": [
       "OUTRAS                        3909\n",
       "PNEUMONIA                     2375\n",
       "INSUFICIENCIA_RESPIRATORIA    2355\n",
       "SEPTICEMIA                    2103\n",
       "INDETERMINADA                 1331\n",
       "SRAG                           501\n",
       "COVID                            1\n",
       "Name: tipo_doenca, dtype: int64"
      ]
     },
     "execution_count": 8,
     "metadata": {},
     "output_type": "execute_result"
    }
   ],
   "source": [
    "data_2019['tipo_doenca'].value_counts()"
   ]
  },
  {
   "cell_type": "code",
   "execution_count": 9,
   "metadata": {},
   "outputs": [
    {
     "data": {
      "text/plain": [
       "OUTRAS                        3893\n",
       "INSUFICIENCIA_RESPIRATORIA    2397\n",
       "PNEUMONIA                     2265\n",
       "COVID                         2176\n",
       "SEPTICEMIA                    2096\n",
       "INDETERMINADA                 1399\n",
       "SRAG                          1107\n",
       "Name: tipo_doenca, dtype: int64"
      ]
     },
     "execution_count": 9,
     "metadata": {},
     "output_type": "execute_result"
    }
   ],
   "source": [
    "data_2020['tipo_doenca'].value_counts()"
   ]
  },
  {
   "cell_type": "code",
   "execution_count": 10,
   "metadata": {},
   "outputs": [
    {
     "data": {
      "text/plain": [
       "OUTRAS                        3794\n",
       "COVID                         2398\n",
       "INSUFICIENCIA_RESPIRATORIA    2321\n",
       "PNEUMONIA                     2171\n",
       "SEPTICEMIA                    2089\n",
       "INDETERMINADA                 1387\n",
       "SRAG                          1111\n",
       "Name: tipo_doenca, dtype: int64"
      ]
     },
     "execution_count": 10,
     "metadata": {},
     "output_type": "execute_result"
    }
   ],
   "source": [
    "data_2021['tipo_doenca'].value_counts()"
   ]
  },
  {
   "cell_type": "code",
   "execution_count": 11,
   "metadata": {},
   "outputs": [
    {
     "name": "stdout",
     "output_type": "stream",
     "text": [
      "<class 'pandas.core.frame.DataFrame'>\n",
      "RangeIndex: 12575 entries, 0 to 12574\n",
      "Data columns (total 6 columns):\n",
      " #   Column        Non-Null Count  Dtype \n",
      "---  ------        --------------  ----- \n",
      " 0   uf            12575 non-null  object\n",
      " 1   tipo_doenca   12575 non-null  object\n",
      " 2   local_obito   12575 non-null  object\n",
      " 3   faixa_etaria  12575 non-null  object\n",
      " 4   sexo          12571 non-null  object\n",
      " 5   total         12575 non-null  int64 \n",
      "dtypes: int64(1), object(5)\n",
      "memory usage: 589.6+ KB\n"
     ]
    }
   ],
   "source": [
    "data_2019.info()"
   ]
  },
  {
   "cell_type": "code",
   "execution_count": 12,
   "metadata": {},
   "outputs": [
    {
     "data": {
      "text/html": [
       "<div>\n",
       "<style scoped>\n",
       "    .dataframe tbody tr th:only-of-type {\n",
       "        vertical-align: middle;\n",
       "    }\n",
       "\n",
       "    .dataframe tbody tr th {\n",
       "        vertical-align: top;\n",
       "    }\n",
       "\n",
       "    .dataframe thead th {\n",
       "        text-align: right;\n",
       "    }\n",
       "</style>\n",
       "<table border=\"1\" class=\"dataframe\">\n",
       "  <thead>\n",
       "    <tr style=\"text-align: right;\">\n",
       "      <th></th>\n",
       "      <th>total</th>\n",
       "    </tr>\n",
       "    <tr>\n",
       "      <th>tipo_doenca</th>\n",
       "      <th></th>\n",
       "    </tr>\n",
       "  </thead>\n",
       "  <tbody>\n",
       "    <tr>\n",
       "      <th>COVID</th>\n",
       "      <td>1</td>\n",
       "    </tr>\n",
       "    <tr>\n",
       "      <th>INDETERMINADA</th>\n",
       "      <td>7181</td>\n",
       "    </tr>\n",
       "    <tr>\n",
       "      <th>INSUFICIENCIA_RESPIRATORIA</th>\n",
       "      <td>102384</td>\n",
       "    </tr>\n",
       "    <tr>\n",
       "      <th>OUTRAS</th>\n",
       "      <td>674088</td>\n",
       "    </tr>\n",
       "    <tr>\n",
       "      <th>PNEUMONIA</th>\n",
       "      <td>229175</td>\n",
       "    </tr>\n",
       "    <tr>\n",
       "      <th>SEPTICEMIA</th>\n",
       "      <td>177921</td>\n",
       "    </tr>\n",
       "    <tr>\n",
       "      <th>SRAG</th>\n",
       "      <td>1525</td>\n",
       "    </tr>\n",
       "  </tbody>\n",
       "</table>\n",
       "</div>"
      ],
      "text/plain": [
       "                             total\n",
       "tipo_doenca                       \n",
       "COVID                            1\n",
       "INDETERMINADA                 7181\n",
       "INSUFICIENCIA_RESPIRATORIA  102384\n",
       "OUTRAS                      674088\n",
       "PNEUMONIA                   229175\n",
       "SEPTICEMIA                  177921\n",
       "SRAG                          1525"
      ]
     },
     "execution_count": 12,
     "metadata": {},
     "output_type": "execute_result"
    }
   ],
   "source": [
    "total_deaths_2019 = data_2019.groupby('tipo_doenca').sum()\n",
    "total_deaths_2019"
   ]
  },
  {
   "cell_type": "code",
   "execution_count": 13,
   "metadata": {},
   "outputs": [
    {
     "data": {
      "text/html": [
       "<div>\n",
       "<style scoped>\n",
       "    .dataframe tbody tr th:only-of-type {\n",
       "        vertical-align: middle;\n",
       "    }\n",
       "\n",
       "    .dataframe tbody tr th {\n",
       "        vertical-align: top;\n",
       "    }\n",
       "\n",
       "    .dataframe thead th {\n",
       "        text-align: right;\n",
       "    }\n",
       "</style>\n",
       "<table border=\"1\" class=\"dataframe\">\n",
       "  <thead>\n",
       "    <tr style=\"text-align: right;\">\n",
       "      <th></th>\n",
       "      <th>total</th>\n",
       "    </tr>\n",
       "    <tr>\n",
       "      <th>tipo_doenca</th>\n",
       "      <th></th>\n",
       "    </tr>\n",
       "  </thead>\n",
       "  <tbody>\n",
       "    <tr>\n",
       "      <th>COVID</th>\n",
       "      <td>200629</td>\n",
       "    </tr>\n",
       "    <tr>\n",
       "      <th>INDETERMINADA</th>\n",
       "      <td>10038</td>\n",
       "    </tr>\n",
       "    <tr>\n",
       "      <th>INSUFICIENCIA_RESPIRATORIA</th>\n",
       "      <td>101685</td>\n",
       "    </tr>\n",
       "    <tr>\n",
       "      <th>OUTRAS</th>\n",
       "      <td>711413</td>\n",
       "    </tr>\n",
       "    <tr>\n",
       "      <th>PNEUMONIA</th>\n",
       "      <td>185761</td>\n",
       "    </tr>\n",
       "    <tr>\n",
       "      <th>SEPTICEMIA</th>\n",
       "      <td>166130</td>\n",
       "    </tr>\n",
       "    <tr>\n",
       "      <th>SRAG</th>\n",
       "      <td>17024</td>\n",
       "    </tr>\n",
       "  </tbody>\n",
       "</table>\n",
       "</div>"
      ],
      "text/plain": [
       "                             total\n",
       "tipo_doenca                       \n",
       "COVID                       200629\n",
       "INDETERMINADA                10038\n",
       "INSUFICIENCIA_RESPIRATORIA  101685\n",
       "OUTRAS                      711413\n",
       "PNEUMONIA                   185761\n",
       "SEPTICEMIA                  166130\n",
       "SRAG                         17024"
      ]
     },
     "execution_count": 13,
     "metadata": {},
     "output_type": "execute_result"
    }
   ],
   "source": [
    "total_deaths_2020 = data_2020.groupby('tipo_doenca').sum()\n",
    "total_deaths_2020"
   ]
  },
  {
   "cell_type": "code",
   "execution_count": 14,
   "metadata": {},
   "outputs": [
    {
     "data": {
      "text/html": [
       "<div>\n",
       "<style scoped>\n",
       "    .dataframe tbody tr th:only-of-type {\n",
       "        vertical-align: middle;\n",
       "    }\n",
       "\n",
       "    .dataframe tbody tr th {\n",
       "        vertical-align: top;\n",
       "    }\n",
       "\n",
       "    .dataframe thead th {\n",
       "        text-align: right;\n",
       "    }\n",
       "</style>\n",
       "<table border=\"1\" class=\"dataframe\">\n",
       "  <thead>\n",
       "    <tr style=\"text-align: right;\">\n",
       "      <th></th>\n",
       "      <th>total</th>\n",
       "    </tr>\n",
       "    <tr>\n",
       "      <th>tipo_doenca</th>\n",
       "      <th></th>\n",
       "    </tr>\n",
       "  </thead>\n",
       "  <tbody>\n",
       "    <tr>\n",
       "      <th>COVID</th>\n",
       "      <td>406580</td>\n",
       "    </tr>\n",
       "    <tr>\n",
       "      <th>INDETERMINADA</th>\n",
       "      <td>10850</td>\n",
       "    </tr>\n",
       "    <tr>\n",
       "      <th>INSUFICIENCIA_RESPIRATORIA</th>\n",
       "      <td>98991</td>\n",
       "    </tr>\n",
       "    <tr>\n",
       "      <th>OUTRAS</th>\n",
       "      <td>747890</td>\n",
       "    </tr>\n",
       "    <tr>\n",
       "      <th>PNEUMONIA</th>\n",
       "      <td>181653</td>\n",
       "    </tr>\n",
       "    <tr>\n",
       "      <th>SEPTICEMIA</th>\n",
       "      <td>179388</td>\n",
       "    </tr>\n",
       "    <tr>\n",
       "      <th>SRAG</th>\n",
       "      <td>12820</td>\n",
       "    </tr>\n",
       "  </tbody>\n",
       "</table>\n",
       "</div>"
      ],
      "text/plain": [
       "                             total\n",
       "tipo_doenca                       \n",
       "COVID                       406580\n",
       "INDETERMINADA                10850\n",
       "INSUFICIENCIA_RESPIRATORIA   98991\n",
       "OUTRAS                      747890\n",
       "PNEUMONIA                   181653\n",
       "SEPTICEMIA                  179388\n",
       "SRAG                         12820"
      ]
     },
     "execution_count": 14,
     "metadata": {},
     "output_type": "execute_result"
    }
   ],
   "source": [
    "total_deaths_2021 = data_2021.groupby('tipo_doenca').sum()\n",
    "total_deaths_2021"
   ]
  },
  {
   "cell_type": "code",
   "execution_count": 15,
   "metadata": {},
   "outputs": [
    {
     "data": {
      "text/html": [
       "<div>\n",
       "<style scoped>\n",
       "    .dataframe tbody tr th:only-of-type {\n",
       "        vertical-align: middle;\n",
       "    }\n",
       "\n",
       "    .dataframe tbody tr th {\n",
       "        vertical-align: top;\n",
       "    }\n",
       "\n",
       "    .dataframe thead th {\n",
       "        text-align: right;\n",
       "    }\n",
       "</style>\n",
       "<table border=\"1\" class=\"dataframe\">\n",
       "  <thead>\n",
       "    <tr style=\"text-align: right;\">\n",
       "      <th></th>\n",
       "      <th>total</th>\n",
       "    </tr>\n",
       "    <tr>\n",
       "      <th>tipo_doenca</th>\n",
       "      <th></th>\n",
       "    </tr>\n",
       "  </thead>\n",
       "  <tbody>\n",
       "    <tr>\n",
       "      <th>COVID</th>\n",
       "      <td>200629.000000</td>\n",
       "    </tr>\n",
       "    <tr>\n",
       "      <th>INDETERMINADA</th>\n",
       "      <td>1.397855</td>\n",
       "    </tr>\n",
       "    <tr>\n",
       "      <th>INSUFICIENCIA_RESPIRATORIA</th>\n",
       "      <td>0.993173</td>\n",
       "    </tr>\n",
       "    <tr>\n",
       "      <th>OUTRAS</th>\n",
       "      <td>1.055371</td>\n",
       "    </tr>\n",
       "    <tr>\n",
       "      <th>PNEUMONIA</th>\n",
       "      <td>0.810564</td>\n",
       "    </tr>\n",
       "    <tr>\n",
       "      <th>SEPTICEMIA</th>\n",
       "      <td>0.933729</td>\n",
       "    </tr>\n",
       "    <tr>\n",
       "      <th>SRAG</th>\n",
       "      <td>11.163279</td>\n",
       "    </tr>\n",
       "  </tbody>\n",
       "</table>\n",
       "</div>"
      ],
      "text/plain": [
       "                                    total\n",
       "tipo_doenca                              \n",
       "COVID                       200629.000000\n",
       "INDETERMINADA                    1.397855\n",
       "INSUFICIENCIA_RESPIRATORIA       0.993173\n",
       "OUTRAS                           1.055371\n",
       "PNEUMONIA                        0.810564\n",
       "SEPTICEMIA                       0.933729\n",
       "SRAG                            11.163279"
      ]
     },
     "execution_count": 15,
     "metadata": {},
     "output_type": "execute_result"
    }
   ],
   "source": [
    "ratio = total_deaths_2020/total_deaths_2019\n",
    "ratio"
   ]
  },
  {
   "cell_type": "code",
   "execution_count": 16,
   "metadata": {},
   "outputs": [
    {
     "data": {
      "text/plain": [
       "total    293\n",
       "Name: (SP, SRAG), dtype: int64"
      ]
     },
     "execution_count": 16,
     "metadata": {},
     "output_type": "execute_result"
    }
   ],
   "source": [
    "states_total = data_2019.groupby(['uf','tipo_doenca']).sum()\n",
    "states_total.loc['SP','SRAG']"
   ]
  },
  {
   "cell_type": "code",
   "execution_count": 17,
   "metadata": {},
   "outputs": [],
   "source": [
    "# Creating a Region column\n",
    "\n",
    "data_2019[\"region\"] = data_2019['uf'].map(RegionStates)\n",
    "data_2019[\"region\"] = data_2019[\"region\"].astype(str)\n",
    "data_2020[\"region\"] = data_2020['uf'].map(RegionStates)\n",
    "data_2020[\"region\"] = data_2020[\"region\"].astype(str)\n",
    "data_2021[\"region\"] = data_2021['uf'].map(RegionStates)\n",
    "data_2021[\"region\"] = data_2021[\"region\"].astype(str)"
   ]
  },
  {
   "cell_type": "code",
   "execution_count": 18,
   "metadata": {},
   "outputs": [
    {
     "data": {
      "text/html": [
       "<div>\n",
       "<style scoped>\n",
       "    .dataframe tbody tr th:only-of-type {\n",
       "        vertical-align: middle;\n",
       "    }\n",
       "\n",
       "    .dataframe tbody tr th {\n",
       "        vertical-align: top;\n",
       "    }\n",
       "\n",
       "    .dataframe thead th {\n",
       "        text-align: right;\n",
       "    }\n",
       "</style>\n",
       "<table border=\"1\" class=\"dataframe\">\n",
       "  <thead>\n",
       "    <tr style=\"text-align: right;\">\n",
       "      <th></th>\n",
       "      <th>uf</th>\n",
       "      <th>tipo_doenca</th>\n",
       "      <th>local_obito</th>\n",
       "      <th>faixa_etaria</th>\n",
       "      <th>sexo</th>\n",
       "      <th>total</th>\n",
       "      <th>region</th>\n",
       "    </tr>\n",
       "  </thead>\n",
       "  <tbody>\n",
       "    <tr>\n",
       "      <th>0</th>\n",
       "      <td>AC</td>\n",
       "      <td>OUTRAS</td>\n",
       "      <td>DOMICILIO</td>\n",
       "      <td>&lt; 9</td>\n",
       "      <td>F</td>\n",
       "      <td>8</td>\n",
       "      <td>North</td>\n",
       "    </tr>\n",
       "    <tr>\n",
       "      <th>1</th>\n",
       "      <td>AC</td>\n",
       "      <td>OUTRAS</td>\n",
       "      <td>DOMICILIO</td>\n",
       "      <td>&lt; 9</td>\n",
       "      <td>M</td>\n",
       "      <td>16</td>\n",
       "      <td>North</td>\n",
       "    </tr>\n",
       "    <tr>\n",
       "      <th>2</th>\n",
       "      <td>AC</td>\n",
       "      <td>OUTRAS</td>\n",
       "      <td>HOSPITAL</td>\n",
       "      <td>&lt; 9</td>\n",
       "      <td>F</td>\n",
       "      <td>46</td>\n",
       "      <td>North</td>\n",
       "    </tr>\n",
       "    <tr>\n",
       "      <th>3</th>\n",
       "      <td>AC</td>\n",
       "      <td>OUTRAS</td>\n",
       "      <td>HOSPITAL</td>\n",
       "      <td>&lt; 9</td>\n",
       "      <td>M</td>\n",
       "      <td>69</td>\n",
       "      <td>North</td>\n",
       "    </tr>\n",
       "    <tr>\n",
       "      <th>4</th>\n",
       "      <td>AC</td>\n",
       "      <td>OUTRAS</td>\n",
       "      <td>IGNORADO</td>\n",
       "      <td>&lt; 9</td>\n",
       "      <td>M</td>\n",
       "      <td>1</td>\n",
       "      <td>North</td>\n",
       "    </tr>\n",
       "  </tbody>\n",
       "</table>\n",
       "</div>"
      ],
      "text/plain": [
       "   uf tipo_doenca local_obito faixa_etaria sexo  total region\n",
       "0  AC      OUTRAS   DOMICILIO          < 9    F      8  North\n",
       "1  AC      OUTRAS   DOMICILIO          < 9    M     16  North\n",
       "2  AC      OUTRAS    HOSPITAL          < 9    F     46  North\n",
       "3  AC      OUTRAS    HOSPITAL          < 9    M     69  North\n",
       "4  AC      OUTRAS    IGNORADO          < 9    M      1  North"
      ]
     },
     "execution_count": 18,
     "metadata": {},
     "output_type": "execute_result"
    }
   ],
   "source": [
    "data_2019.head()"
   ]
  },
  {
   "cell_type": "code",
   "execution_count": 19,
   "metadata": {},
   "outputs": [
    {
     "name": "stdout",
     "output_type": "stream",
     "text": [
      "NORTH\n"
     ]
    },
    {
     "data": {
      "image/png": "[encoded data removed]",
      "text/plain": [
       "<Figure size 576x432 with 1 Axes>"
      ]
     },
     "metadata": {
      "needs_background": "light"
     },
     "output_type": "display_data"
    }
   ],
   "source": [
    "def plot_comparation_graph(death_cause,\n",
    "                           state = 'BRASIL'):\n",
    "    print(state.upper())\n",
    "    if state == 'BRASIL':\n",
    "        total_2019 = data_2019.groupby(['tipo_doenca']).sum()\n",
    "        total_2020 = data_2020.groupby(['tipo_doenca']).sum()\n",
    "        total_2021 = data_2021.groupby(['tipo_doenca']).sum()\n",
    "        list_SRAG = [int(total_2019.loc[death_cause]), \n",
    "                     int(total_2020.loc[death_cause])]\n",
    "        title = 'in Brazil'\n",
    "    else:\n",
    "   # elif state.upper() in regions_list:\n",
    "        total_2019 = data_2019.groupby(['region','tipo_doenca']).sum()\n",
    "        total_2020 = data_2020.groupby(['region','tipo_doenca']).sum()\n",
    "        total_2021 = data_2021.groupby(['region','tipo_doenca']).sum()\n",
    "        list_SRAG = [int(total_2019.loc[state, death_cause]), \n",
    "                     int(total_2020.loc[state, death_cause]),\n",
    "                     int(total_2021.loc[state, death_cause])]\n",
    "        title = f'in the {state} region'        \n",
    "\n",
    "\n",
    "\n",
    "    data = pd.DataFrame({'Total': list_SRAG,\n",
    "                         'Year': [2019, 2020, 2021]})\n",
    "\n",
    "    plt.figure(figsize=(8,6))\n",
    "    sns.barplot(x = 'Year' , y = 'Total', data = data)      \n",
    "    plt.title(f'Cause of death - {death_cause} - {title}')\n",
    "    plt.show()                     \n",
    "\n",
    "plot_comparation_graph('SRAG','North')    "
   ]
  },
  {
   "cell_type": "code",
   "execution_count": 49,
   "metadata": {},
   "outputs": [
    {
     "data": {
      "text/plain": [
       "['AC',\n",
       " 'AL',\n",
       " 'AM',\n",
       " 'AP',\n",
       " 'BA',\n",
       " 'CE',\n",
       " 'DF',\n",
       " 'ES',\n",
       " 'GO',\n",
       " 'MA',\n",
       " 'MG',\n",
       " 'MS',\n",
       " 'MT',\n",
       " 'PA',\n",
       " 'PB',\n",
       " 'PE',\n",
       " 'PI',\n",
       " 'PR',\n",
       " 'RJ',\n",
       " 'RN',\n",
       " 'RO',\n",
       " 'RR',\n",
       " 'RS',\n",
       " 'SC',\n",
       " 'SE',\n",
       " 'SP',\n",
       " 'TO',\n",
       " 'BRASIL']"
      ]
     },
     "execution_count": 49,
     "metadata": {},
     "output_type": "execute_result"
    }
   ],
   "source": [
    "disease_types = data_2021['tipo_doenca'].unique().tolist()\n",
    "default_ix1 = disease_types.index('SRAG')\n",
    "disease_types\n",
    "\n",
    "states = np.append(data_2021['uf'].unique(),'BRASIL').tolist()\n",
    "states"
   ]
  },
  {
   "cell_type": "code",
   "execution_count": 20,
   "metadata": {},
   "outputs": [
    {
     "ename": "KeyError",
     "evalue": "'ALL'",
     "output_type": "error",
     "traceback": [
      "\u001b[1;31m---------------------------------------------------------------------------\u001b[0m",
      "\u001b[1;31mKeyError\u001b[0m                                  Traceback (most recent call last)",
      "File \u001b[1;32mc:\\Dev\\Python\\lib\\site-packages\\pandas\\core\\indexes\\base.py:3621\u001b[0m, in \u001b[0;36mIndex.get_loc\u001b[1;34m(self, key, method, tolerance)\u001b[0m\n\u001b[0;32m   <a href='file:///c%3A/Dev/Python/lib/site-packages/pandas/core/indexes/base.py?line=3619'>3620</a>\u001b[0m \u001b[39mtry\u001b[39;00m:\n\u001b[1;32m-> <a href='file:///c%3A/Dev/Python/lib/site-packages/pandas/core/indexes/base.py?line=3620'>3621</a>\u001b[0m     \u001b[39mreturn\u001b[39;00m \u001b[39mself\u001b[39;49m\u001b[39m.\u001b[39;49m_engine\u001b[39m.\u001b[39;49mget_loc(casted_key)\n\u001b[0;32m   <a href='file:///c%3A/Dev/Python/lib/site-packages/pandas/core/indexes/base.py?line=3621'>3622</a>\u001b[0m \u001b[39mexcept\u001b[39;00m \u001b[39mKeyError\u001b[39;00m \u001b[39mas\u001b[39;00m err:\n",
      "File \u001b[1;32mc:\\Dev\\Python\\lib\\site-packages\\pandas\\_libs\\index.pyx:136\u001b[0m, in \u001b[0;36mpandas._libs.index.IndexEngine.get_loc\u001b[1;34m()\u001b[0m\n",
      "File \u001b[1;32mc:\\Dev\\Python\\lib\\site-packages\\pandas\\_libs\\index.pyx:163\u001b[0m, in \u001b[0;36mpandas._libs.index.IndexEngine.get_loc\u001b[1;34m()\u001b[0m\n",
      "File \u001b[1;32mpandas\\_libs\\hashtable_class_helper.pxi:5198\u001b[0m, in \u001b[0;36mpandas._libs.hashtable.PyObjectHashTable.get_item\u001b[1;34m()\u001b[0m\n",
      "File \u001b[1;32mpandas\\_libs\\hashtable_class_helper.pxi:5206\u001b[0m, in \u001b[0;36mpandas._libs.hashtable.PyObjectHashTable.get_item\u001b[1;34m()\u001b[0m\n",
      "\u001b[1;31mKeyError\u001b[0m: 'ALL'",
      "\nThe above exception was the direct cause of the following exception:\n",
      "\u001b[1;31mKeyError\u001b[0m                                  Traceback (most recent call last)",
      "\u001b[1;32mc:\\Dev\\GitHub\\streamlit_covid\\data\\notebooks\\covid_deaths_analysis.ipynb Cell 20'\u001b[0m in \u001b[0;36m<module>\u001b[1;34m\u001b[0m\n\u001b[0;32m     <a href='vscode-notebook-cell:/c%3A/Dev/GitHub/streamlit_covid/data/notebooks/covid_deaths_analysis.ipynb#ch0000019?line=38'>39</a>\u001b[0m     plt\u001b[39m.\u001b[39mtitle(\u001b[39mf\u001b[39m\u001b[39m'\u001b[39m\u001b[39mCause of death - \u001b[39m\u001b[39m{\u001b[39;00mdeath_cause\u001b[39m}\u001b[39;00m\u001b[39m - \u001b[39m\u001b[39m{\u001b[39;00mtitle\u001b[39m}\u001b[39;00m\u001b[39m'\u001b[39m)\n\u001b[0;32m     <a href='vscode-notebook-cell:/c%3A/Dev/GitHub/streamlit_covid/data/notebooks/covid_deaths_analysis.ipynb#ch0000019?line=39'>40</a>\u001b[0m     plt\u001b[39m.\u001b[39mshow()                     \n\u001b[1;32m---> <a href='vscode-notebook-cell:/c%3A/Dev/GitHub/streamlit_covid/data/notebooks/covid_deaths_analysis.ipynb#ch0000019?line=41'>42</a>\u001b[0m plot_comparation_graph(data_2019,data_2020,data_2021)\n",
      "\u001b[1;32mc:\\Dev\\GitHub\\streamlit_covid\\data\\notebooks\\covid_deaths_analysis.ipynb Cell 20'\u001b[0m in \u001b[0;36mplot_comparation_graph\u001b[1;34m(data_2019, data_2020, data_2021, death_cause, state)\u001b[0m\n\u001b[0;32m      <a href='vscode-notebook-cell:/c%3A/Dev/GitHub/streamlit_covid/data/notebooks/covid_deaths_analysis.ipynb#ch0000019?line=8'>9</a>\u001b[0m     total_2020 \u001b[39m=\u001b[39m data_2020\u001b[39m.\u001b[39mgroupby([\u001b[39m'\u001b[39m\u001b[39mtipo_doenca\u001b[39m\u001b[39m'\u001b[39m])\u001b[39m.\u001b[39msum()\n\u001b[0;32m     <a href='vscode-notebook-cell:/c%3A/Dev/GitHub/streamlit_covid/data/notebooks/covid_deaths_analysis.ipynb#ch0000019?line=9'>10</a>\u001b[0m     total_2021 \u001b[39m=\u001b[39m data_2021\u001b[39m.\u001b[39mgroupby([\u001b[39m'\u001b[39m\u001b[39mtipo_doenca\u001b[39m\u001b[39m'\u001b[39m])\u001b[39m.\u001b[39msum()\n\u001b[1;32m---> <a href='vscode-notebook-cell:/c%3A/Dev/GitHub/streamlit_covid/data/notebooks/covid_deaths_analysis.ipynb#ch0000019?line=10'>11</a>\u001b[0m     list_SRAG \u001b[39m=\u001b[39m [\u001b[39mint\u001b[39m(total_2019\u001b[39m.\u001b[39;49mloc[death_cause]), \n\u001b[0;32m     <a href='vscode-notebook-cell:/c%3A/Dev/GitHub/streamlit_covid/data/notebooks/covid_deaths_analysis.ipynb#ch0000019?line=11'>12</a>\u001b[0m                  \u001b[39mint\u001b[39m(total_2020\u001b[39m.\u001b[39mloc[death_cause]),\n\u001b[0;32m     <a href='vscode-notebook-cell:/c%3A/Dev/GitHub/streamlit_covid/data/notebooks/covid_deaths_analysis.ipynb#ch0000019?line=12'>13</a>\u001b[0m                  \u001b[39mint\u001b[39m(total_2021\u001b[39m.\u001b[39mloc[death_cause])]\n\u001b[0;32m     <a href='vscode-notebook-cell:/c%3A/Dev/GitHub/streamlit_covid/data/notebooks/covid_deaths_analysis.ipynb#ch0000019?line=13'>14</a>\u001b[0m     title \u001b[39m=\u001b[39m \u001b[39m'\u001b[39m\u001b[39min Brazil\u001b[39m\u001b[39m'\u001b[39m\n\u001b[0;32m     <a href='vscode-notebook-cell:/c%3A/Dev/GitHub/streamlit_covid/data/notebooks/covid_deaths_analysis.ipynb#ch0000019?line=14'>15</a>\u001b[0m \u001b[39melif\u001b[39;00m state\u001b[39m.\u001b[39mupper() \u001b[39min\u001b[39;00m regions_list:\n",
      "File \u001b[1;32mc:\\Dev\\Python\\lib\\site-packages\\pandas\\core\\indexing.py:967\u001b[0m, in \u001b[0;36m_LocationIndexer.__getitem__\u001b[1;34m(self, key)\u001b[0m\n\u001b[0;32m    <a href='file:///c%3A/Dev/Python/lib/site-packages/pandas/core/indexing.py?line=963'>964</a>\u001b[0m axis \u001b[39m=\u001b[39m \u001b[39mself\u001b[39m\u001b[39m.\u001b[39maxis \u001b[39mor\u001b[39;00m \u001b[39m0\u001b[39m\n\u001b[0;32m    <a href='file:///c%3A/Dev/Python/lib/site-packages/pandas/core/indexing.py?line=965'>966</a>\u001b[0m maybe_callable \u001b[39m=\u001b[39m com\u001b[39m.\u001b[39mapply_if_callable(key, \u001b[39mself\u001b[39m\u001b[39m.\u001b[39mobj)\n\u001b[1;32m--> <a href='file:///c%3A/Dev/Python/lib/site-packages/pandas/core/indexing.py?line=966'>967</a>\u001b[0m \u001b[39mreturn\u001b[39;00m \u001b[39mself\u001b[39;49m\u001b[39m.\u001b[39;49m_getitem_axis(maybe_callable, axis\u001b[39m=\u001b[39;49maxis)\n",
      "File \u001b[1;32mc:\\Dev\\Python\\lib\\site-packages\\pandas\\core\\indexing.py:1202\u001b[0m, in \u001b[0;36m_LocIndexer._getitem_axis\u001b[1;34m(self, key, axis)\u001b[0m\n\u001b[0;32m   <a href='file:///c%3A/Dev/Python/lib/site-packages/pandas/core/indexing.py?line=1199'>1200</a>\u001b[0m \u001b[39m# fall thru to straight lookup\u001b[39;00m\n\u001b[0;32m   <a href='file:///c%3A/Dev/Python/lib/site-packages/pandas/core/indexing.py?line=1200'>1201</a>\u001b[0m \u001b[39mself\u001b[39m\u001b[39m.\u001b[39m_validate_key(key, axis)\n\u001b[1;32m-> <a href='file:///c%3A/Dev/Python/lib/site-packages/pandas/core/indexing.py?line=1201'>1202</a>\u001b[0m \u001b[39mreturn\u001b[39;00m \u001b[39mself\u001b[39;49m\u001b[39m.\u001b[39;49m_get_label(key, axis\u001b[39m=\u001b[39;49maxis)\n",
      "File \u001b[1;32mc:\\Dev\\Python\\lib\\site-packages\\pandas\\core\\indexing.py:1153\u001b[0m, in \u001b[0;36m_LocIndexer._get_label\u001b[1;34m(self, label, axis)\u001b[0m\n\u001b[0;32m   <a href='file:///c%3A/Dev/Python/lib/site-packages/pandas/core/indexing.py?line=1150'>1151</a>\u001b[0m \u001b[39mdef\u001b[39;00m \u001b[39m_get_label\u001b[39m(\u001b[39mself\u001b[39m, label, axis: \u001b[39mint\u001b[39m):\n\u001b[0;32m   <a href='file:///c%3A/Dev/Python/lib/site-packages/pandas/core/indexing.py?line=1151'>1152</a>\u001b[0m     \u001b[39m# GH#5667 this will fail if the label is not present in the axis.\u001b[39;00m\n\u001b[1;32m-> <a href='file:///c%3A/Dev/Python/lib/site-packages/pandas/core/indexing.py?line=1152'>1153</a>\u001b[0m     \u001b[39mreturn\u001b[39;00m \u001b[39mself\u001b[39;49m\u001b[39m.\u001b[39;49mobj\u001b[39m.\u001b[39;49mxs(label, axis\u001b[39m=\u001b[39;49maxis)\n",
      "File \u001b[1;32mc:\\Dev\\Python\\lib\\site-packages\\pandas\\core\\generic.py:3876\u001b[0m, in \u001b[0;36mNDFrame.xs\u001b[1;34m(self, key, axis, level, drop_level)\u001b[0m\n\u001b[0;32m   <a href='file:///c%3A/Dev/Python/lib/site-packages/pandas/core/generic.py?line=3873'>3874</a>\u001b[0m             new_index \u001b[39m=\u001b[39m index[loc]\n\u001b[0;32m   <a href='file:///c%3A/Dev/Python/lib/site-packages/pandas/core/generic.py?line=3874'>3875</a>\u001b[0m \u001b[39melse\u001b[39;00m:\n\u001b[1;32m-> <a href='file:///c%3A/Dev/Python/lib/site-packages/pandas/core/generic.py?line=3875'>3876</a>\u001b[0m     loc \u001b[39m=\u001b[39m index\u001b[39m.\u001b[39;49mget_loc(key)\n\u001b[0;32m   <a href='file:///c%3A/Dev/Python/lib/site-packages/pandas/core/generic.py?line=3877'>3878</a>\u001b[0m     \u001b[39mif\u001b[39;00m \u001b[39misinstance\u001b[39m(loc, np\u001b[39m.\u001b[39mndarray):\n\u001b[0;32m   <a href='file:///c%3A/Dev/Python/lib/site-packages/pandas/core/generic.py?line=3878'>3879</a>\u001b[0m         \u001b[39mif\u001b[39;00m loc\u001b[39m.\u001b[39mdtype \u001b[39m==\u001b[39m np\u001b[39m.\u001b[39mbool_:\n",
      "File \u001b[1;32mc:\\Dev\\Python\\lib\\site-packages\\pandas\\core\\indexes\\base.py:3623\u001b[0m, in \u001b[0;36mIndex.get_loc\u001b[1;34m(self, key, method, tolerance)\u001b[0m\n\u001b[0;32m   <a href='file:///c%3A/Dev/Python/lib/site-packages/pandas/core/indexes/base.py?line=3620'>3621</a>\u001b[0m     \u001b[39mreturn\u001b[39;00m \u001b[39mself\u001b[39m\u001b[39m.\u001b[39m_engine\u001b[39m.\u001b[39mget_loc(casted_key)\n\u001b[0;32m   <a href='file:///c%3A/Dev/Python/lib/site-packages/pandas/core/indexes/base.py?line=3621'>3622</a>\u001b[0m \u001b[39mexcept\u001b[39;00m \u001b[39mKeyError\u001b[39;00m \u001b[39mas\u001b[39;00m err:\n\u001b[1;32m-> <a href='file:///c%3A/Dev/Python/lib/site-packages/pandas/core/indexes/base.py?line=3622'>3623</a>\u001b[0m     \u001b[39mraise\u001b[39;00m \u001b[39mKeyError\u001b[39;00m(key) \u001b[39mfrom\u001b[39;00m \u001b[39merr\u001b[39;00m\n\u001b[0;32m   <a href='file:///c%3A/Dev/Python/lib/site-packages/pandas/core/indexes/base.py?line=3623'>3624</a>\u001b[0m \u001b[39mexcept\u001b[39;00m \u001b[39mTypeError\u001b[39;00m:\n\u001b[0;32m   <a href='file:///c%3A/Dev/Python/lib/site-packages/pandas/core/indexes/base.py?line=3624'>3625</a>\u001b[0m     \u001b[39m# If we have a listlike key, _check_indexing_error will raise\u001b[39;00m\n\u001b[0;32m   <a href='file:///c%3A/Dev/Python/lib/site-packages/pandas/core/indexes/base.py?line=3625'>3626</a>\u001b[0m     \u001b[39m#  InvalidIndexError. Otherwise we fall through and re-raise\u001b[39;00m\n\u001b[0;32m   <a href='file:///c%3A/Dev/Python/lib/site-packages/pandas/core/indexes/base.py?line=3626'>3627</a>\u001b[0m     \u001b[39m#  the TypeError.\u001b[39;00m\n\u001b[0;32m   <a href='file:///c%3A/Dev/Python/lib/site-packages/pandas/core/indexes/base.py?line=3627'>3628</a>\u001b[0m     \u001b[39mself\u001b[39m\u001b[39m.\u001b[39m_check_indexing_error(key)\n",
      "\u001b[1;31mKeyError\u001b[0m: 'ALL'"
     ]
    }
   ],
   "source": [
    "def plot_comparation_graph(data_2019,\n",
    "                           data_2020,\n",
    "                           data_2021,\n",
    "                           death_cause = 'ALL',\n",
    "                           state = 'BRASIL'):\n",
    "\n",
    "    if state == 'BRASIL':\n",
    "        total_2019 = data_2019.groupby(['tipo_doenca']).sum()\n",
    "        total_2020 = data_2020.groupby(['tipo_doenca']).sum()\n",
    "        total_2021 = data_2021.groupby(['tipo_doenca']).sum()\n",
    "        list_SRAG = [int(total_2019.loc[death_cause]), \n",
    "                     int(total_2020.loc[death_cause]),\n",
    "                     int(total_2021.loc[death_cause])]\n",
    "        title = 'in Brazil'\n",
    "    elif state.upper() in regions_list:\n",
    "        print(state.upper())\n",
    "        total_2019 = data_2019.groupby(['region','tipo_doenca']).sum()\n",
    "        total_2020 = data_2020.groupby(['region','tipo_doenca']).sum()\n",
    "        total_2021 = data_2021.groupby(['region','tipo_doenca']).sum()\n",
    "        list_SRAG = [int(total_2019.loc[state, death_cause]), \n",
    "                     int(total_2020.loc[state, death_cause]),\n",
    "                     int(total_2021.loc[state, death_cause])]\n",
    "        title = f'in the {state.lower()} region'        \n",
    "\n",
    "    elif death_cause != 'ALL':                          \n",
    "        total_2019 = data_2019.groupby(['uf','tipo_doenca']).sum()\n",
    "        total_2020 = data_2020.groupby(['uf','tipo_doenca']).sum()\n",
    "        total_2021 = data_2021.groupby(['uf','tipo_doenca']).sum()\n",
    "        list_SRAG = [int(total_2019.loc[state, death_cause]), \n",
    "                     int(total_2020.loc[state, death_cause]),\n",
    "                     int(total_2021.loc[state, death_cause])]\n",
    "        title = f'in the state of {state.upper().replace(state, States[state])}'\n",
    "\n",
    "    data = pd.DataFrame({'Total': list_SRAG,\n",
    "                         'Year': [2019, 2020, 2021]})\n",
    "\n",
    "    plt.figure(figsize=(8,6))\n",
    "    sns.barplot(x = 'Year' , y = 'Total', data = data)      \n",
    "    plt.title(f'Cause of death - {death_cause} - {title}')\n",
    "    plt.show()                     \n",
    "\n",
    "plot_comparation_graph(data_2019,data_2020,data_2021)    "
   ]
  },
  {
   "cell_type": "code",
   "execution_count": null,
   "metadata": {},
   "outputs": [
    {
     "data": {
      "text/plain": [
       "total    1525\n",
       "Name: SRAG, dtype: int64"
      ]
     },
     "execution_count": 32,
     "metadata": {},
     "output_type": "execute_result"
    }
   ],
   "source": [
    "total_deaths_2019.loc['SRAG']"
   ]
  },
  {
   "cell_type": "markdown",
   "metadata": {},
   "source": [
    "## Desafio 01: Acesar o portal e verificar como são classificados os dados."
   ]
  }
 ],
 "metadata": {
  "kernelspec": {
   "display_name": "Python 3",
   "language": "python",
   "name": "python3"
  },
  "language_info": {
   "codemirror_mode": {
    "name": "ipython",
    "version": 3
   },
   "file_extension": ".py",
   "mimetype": "text/x-python",
   "name": "python",
   "nbconvert_exporter": "python",
   "pygments_lexer": "ipython3",
   "version": "3.10.2"
  },
  "orig_nbformat": 2
 },
 "nbformat": 4,
 "nbformat_minor": 2
}
